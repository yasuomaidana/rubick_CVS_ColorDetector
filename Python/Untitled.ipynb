{
 "cells": [
  {
   "cell_type": "code",
   "execution_count": 1,
   "metadata": {},
   "outputs": [],
   "source": [
    "#!/usr/bin/env python\n",
    "import socket\n",
    "import array as arr"
   ]
  },
  {
   "cell_type": "code",
   "execution_count": 2,
   "metadata": {},
   "outputs": [],
   "source": [
    "# Dictionary of cube moves\n",
    "movesDict = {\n",
    "\t\"U\":\t0,\n",
    "\t\"U2\": \t1,\n",
    "\t\"U'\": \t2,\n",
    "\t\"B\": \t3,\n",
    "\t\"B2\": \t4,\n",
    "\t\"B'\": \t5,\n",
    "\t\"R\": \t6,\n",
    "\t\"R2\": \t7,\n",
    "\t\"R'\": \t8,\n",
    "\t\"F\": \t9,\n",
    "\t\"F2\": \t10,\n",
    "\t\"F'\": \t11,\n",
    "\t\"L\": \t12,\n",
    "\t\"L2\":\t13,\n",
    "\t\"L'\":\t14,\n",
    "\t\"D\": \t15,\n",
    "\t\"D2\":\t16,\n",
    "\t\"D'\":\t17\n",
    "}"
   ]
  },
  {
   "cell_type": "code",
   "execution_count": 34,
   "metadata": {},
   "outputs": [],
   "source": [
    "# Connect TCP/IP client to localhost in port 2500\n",
    "client = socket.socket(socket.AF_INET, socket.SOCK_STREAM)\n",
    "client.connect((\"localhost\", 2500))\n",
    "\n",
    "# Open and read text file with cube moves information\n",
    "# NOTE: This is just an example to show the interaction with the cube simulator,\n",
    "#\t\tuser must assemble the packets with the output of the cube solution algorithm\n",
    "file = open(\"movesSolution.txt\", \"r\")\n",
    "str = file.read()\n",
    "lines = str.split(\"\\n\")\n",
    "nMoves = len(lines) # number of moves detected in text file"
   ]
  },
  {
   "cell_type": "code",
   "execution_count": 37,
   "metadata": {},
   "outputs": [],
   "source": [
    "# Assemble Set Cube Moves Command packet (see manual)\n",
    "command = 0xFB\n",
    "payloadLen = nMoves\n",
    "packet = arr.array('B', [0] * (payloadLen + 2))\n",
    "packet[0] = command\n",
    "packet[1] = payloadLen\n",
    "for idx in range(0, nMoves):\n",
    "    cubeMove = lines[idx]\n",
    "    packet[idx + 2] = movesDict[cubeMove]"
   ]
  },
  {
   "cell_type": "code",
   "execution_count": null,
   "metadata": {},
   "outputs": [],
   "source": []
  },
  {
   "cell_type": "code",
   "execution_count": 11,
   "metadata": {},
   "outputs": [
    {
     "ename": "ConnectionAbortedError",
     "evalue": "[WinError 10053] An established connection was aborted by the software in your host machine",
     "output_type": "error",
     "traceback": [
      "\u001b[1;31m---------------------------------------------------------------------------\u001b[0m",
      "\u001b[1;31mConnectionAbortedError\u001b[0m                    Traceback (most recent call last)",
      "\u001b[1;32m<ipython-input-11-7fa82b8b5355>\u001b[0m in \u001b[0;36m<module>\u001b[1;34m\u001b[0m\n\u001b[0;32m      1\u001b[0m \u001b[1;31m# Write packet to cube simulator\u001b[0m\u001b[1;33m\u001b[0m\u001b[1;33m\u001b[0m\u001b[1;33m\u001b[0m\u001b[0m\n\u001b[1;32m----> 2\u001b[1;33m \u001b[0mclient\u001b[0m\u001b[1;33m.\u001b[0m\u001b[0msend\u001b[0m\u001b[1;33m(\u001b[0m\u001b[0mpacket\u001b[0m\u001b[1;33m)\u001b[0m\u001b[1;33m\u001b[0m\u001b[1;33m\u001b[0m\u001b[0m\n\u001b[0m",
      "\u001b[1;31mConnectionAbortedError\u001b[0m: [WinError 10053] An established connection was aborted by the software in your host machine"
     ]
    }
   ],
   "source": [
    "# Write packet to cube simulator\n",
    "client.send(packet)"
   ]
  },
  {
   "cell_type": "code",
   "execution_count": 10,
   "metadata": {},
   "outputs": [],
   "source": [
    "client = socket.socket(socket.AF_INET, socket.SOCK_STREAM)\n",
    "client.connect((\"localhost\", 2500))\n",
    "\n",
    "packet = arr.array('B', [0] * 19)\n",
    "packet[0] = 0xFB\n",
    "packet[1] = 17\n",
    "packet[2] = 1\n",
    "packet[3] = 2\n",
    "\n",
    "packet[4] = 3\n",
    "packet[5] = 4\n",
    "packet[6] = 5\n",
    "packet[7] = 6\n",
    "packet[8] = 7\n",
    "packet[9] = 8\n",
    "packet[10] = 9\n",
    "packet[11] = 10\n",
    "packet[12] = 11\n",
    "packet[13] = 12\n",
    "packet[14] = 13\n",
    "packet[15] = 14\n",
    "packet[16] = 15\n",
    "packet[17] = 16\n",
    "packet[18] = 20\n",
    "client.send(packet)\n",
    "\n",
    "client.close()"
   ]
  },
  {
   "cell_type": "code",
   "execution_count": 7,
   "metadata": {},
   "outputs": [],
   "source": [
    "client.close()"
   ]
  },
  {
   "cell_type": "code",
   "execution_count": null,
   "metadata": {},
   "outputs": [],
   "source": []
  }
 ],
 "metadata": {
  "kernelspec": {
   "display_name": "Python 3",
   "language": "python",
   "name": "python3"
  },
  "language_info": {
   "codemirror_mode": {
    "name": "ipython",
    "version": 3
   },
   "file_extension": ".py",
   "mimetype": "text/x-python",
   "name": "python",
   "nbconvert_exporter": "python",
   "pygments_lexer": "ipython3",
   "version": "3.7.7"
  }
 },
 "nbformat": 4,
 "nbformat_minor": 4
}
